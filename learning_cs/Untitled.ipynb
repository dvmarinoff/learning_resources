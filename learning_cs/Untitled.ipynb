{
 "cells": [
  {
   "cell_type": "markdown",
   "metadata": {},
   "source": [
    "## Dot Products and Duality\n",
    "\n",
    "\"Only in the light of linear transformations we can fully understand what a dot product is\".\n",
    "\n",
    "* Formal representation\n",
    "\n",
    "Numericaly if you have 2 vectors of the same dimention, taking their dot product means\n",
    "pairing up all the coordinates, multipling those pairs together and adding the result.\n",
    "\n",
    "Like mapping over the length with multiplication and then reducing with addition to squish it down to a single number on the number line.\n",
    "\n",
    "$$ \\begin{bmatrix} 2\\\\ 7\\\\ 1\\end{bmatrix} . \\begin{bmatrix} 8\\\\ 2\\\\ 8\\end{bmatrix} = \\begin{matrix} 2 \\cdot 8\\\\ +\\\\ 7 \\cdot 2\\\\ + \\\\ 1 \\cdot 8 \\end{matrix} = 38 $$"
   ]
  },
  {
   "cell_type": "code",
   "execution_count": 23,
   "metadata": {},
   "outputs": [
    {
     "data": {
      "text/plain": [
       "38"
      ]
     },
     "execution_count": 23,
     "metadata": {},
     "output_type": "execute_result"
    }
   ],
   "source": [
    "v⃗ = [2;7;1];\n",
    "w⃗ = [8;2;8];\n",
    "\n",
    "p1 = dot(v⃗, w⃗)"
   ]
  },
  {
   "cell_type": "markdown",
   "metadata": {},
   "source": [
    "* Graphical interpretation\n",
    "\n",
    "To think about the dot product between two vectors $ \\vec{v} $ and $ \\vec{w} $, imagine\n",
    "projecting $ \\vec{w} $ onto the line that passes through the origin and the tip of $ \\vec{v} $.\n",
    "Multiply the length of that projection by the length of $ \\vec{v} $ and you get the dot product\n",
    "$ \\vec{v} $ and $ \\vec{w} $. If tha projection of $ \\vec{w} $ is pointing in the opposite direction\n",
    "from $ \\vec{v} $ the dot product will be negative. If they are penpendicular their dot product is 0.\n",
    "\n",
    "$$ \\vec{v} . \\vec{w} = \\begin{bmatrix} 4\\\\ 1 \\end{bmatrix} . \\begin{bmatrix} -2\\\\ 1 \\end{bmatrix} = (\\text{Length  of  projected } \\vec{w})(\\text{Length of } \\vec{v}) $$"
   ]
  },
  {
   "cell_type": "markdown",
   "metadata": {},
   "source": [
    "This interpretation seems asymetric, it treats the two vector differently. But actualy order still doesn't matter.\n",
    "If $ \\vec{v} $ and $ \\vec{w} $ happened to have the same length we could levarege some symmetry.\n",
    "Since projecting $ \\vec{v} $ onto $ \\vec{w} $ than multiplying the length of that projection by the length\n",
    "of $ \\vec{v} $, is a complete mirror image of projecting $ \\vec{v} $ onto $ \\vec{w} $ than multipling that\n",
    "projection by the length of $ \\vec{w} $.\n",
    "\n",
    "Now if you scale one of them, say $ \\vec{v} $ by some constant like 2, so that they don't have equal length,\n",
    "the symmetry is broken. But lets think how to interprete the dot product between this new vector $ 2\\vec{v} $\n",
    "and $ \\vec{w} $. If you think of $ \\vec{w} $ as getting projected onto $ \\vec{v} $ then the dot product will\n",
    "be exatly twice the dot product $ \\vec{v}.\\vec{w} $. This is because when you scale $ \\vec{v} $ by 2 it\n",
    "doesn't change the length of the projection of $ \\vec{w} $, but it doubles the length of the vector that\n",
    "you are projecting onto. \n",
    "\n",
    "$$ (2\\vec{v}).\\vec{w} = 2(\\vec{v}.\\vec{w})  $$\n",
    "\n",
    "But on the other hand lets think of $ \\vec{v} $ getting projected onto $ \\vec{w} $. In that case the length\n",
    "of the projection is the thing to get scaled we multiply  $ \\vec{v} $ by 2. The length of the vector you are projecting onto stays constant. So the overall effect is still to just double the dot product. So even the\n",
    "symmetry is broken the effect that this scaling have on the dot product is the same under both interpretations.\n",
    "\n",
    "Why both views are connected?\n",
    "\n",
    "Why the computaion have anything to do with the projection?\n",
    "\n",
    "The answer is in something deeper known as \"Duality\"."
   ]
  },
  {
   "cell_type": "code",
   "execution_count": 31,
   "metadata": {},
   "outputs": [],
   "source": [
    "using Plots; gr()\n",
    "# plotly()\n",
    "\n",
    "# x = linspace(-4, 4, 10);\n",
    "# y = linspace(-4, 4, 10);\n",
    "# z = linspace(-4, 4, 10);\n",
    "\n",
    "m = 100;\n",
    "xs = linspace(-10, 10, m)\n",
    "xs2 = reshape([xs; xs], 2, 100);\n",
    "\n",
    "g(x,y) = [(x^2), (y^2)];\n",
    "h(x) = x^2;\n",
    "f(x) = x^2;\n",
    "\n",
    "# # plot([map(g, xs), map(h,xs), map(f, xs)])\n",
    "\n",
    "# A = randn(3,10);\n",
    "# struct T end\n",
    "# @recipe f(::T) = rand(100,100)\n",
    "\n",
    "# B = reshape(map(g, xs), 3, 500)\n",
    "# surface(B)\n",
    "\n",
    "\n",
    "# A = map(g, xs2[1,:], xs2[2,:]);\n",
    "# surface(A)\n",
    "# surface(reshape(A, 2, 50))\n"
   ]
  },
  {
   "cell_type": "code",
   "execution_count": null,
   "metadata": {},
   "outputs": [],
   "source": [
    "$$ \\begin{bmatrix} \\\\ \\\\ \\end{bmatrix} $$"
   ]
  }
 ],
 "metadata": {
  "kernelspec": {
   "display_name": "Julia 0.6.2",
   "language": "julia",
   "name": "julia-0.6"
  },
  "language_info": {
   "file_extension": ".jl",
   "mimetype": "application/julia",
   "name": "julia",
   "version": "0.6.2"
  }
 },
 "nbformat": 4,
 "nbformat_minor": 2
}
