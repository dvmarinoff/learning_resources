{
 "cells": [
  {
   "cell_type": "code",
   "execution_count": 4,
   "metadata": {},
   "outputs": [],
   "source": [
    "using Plots\n",
    "plotly()\n",
    "\n",
    "# data\n",
    "X = [3 5; 5 1; 10 2];\n",
    "y = [75; 82; 93];\n",
    "\n",
    "# weights\n",
    "w1 = randn(2,3);\n",
    "w2 = randn(3,1);\n",
    "\n",
    "# stat functions for normalization of data\n",
    "mu(xs, n) = sum(xs) / n;\n",
    "norm(xs, μ, min, max) = map(x -> (x - μ) / (max - min));\n",
    "\n",
    "# simple normalization\n",
    "X = X./maximum(X);\n",
    "y = y./100;\n",
    "\n",
    "# the activation function\n",
    "function sigmoid(x)\n",
    "    1 / (1 + e^(-x))\n",
    "end;\n",
    "\n",
    "# derivative of the activation function\n",
    "function sigmoidPrime(x)\n",
    "    e^(-x) / ((1 + e^(-x))^2)\n",
    "end;\n",
    "\n",
    "function g(xs)\n",
    "    map(sigmoid, xs);\n",
    "end;\n",
    "\n",
    "function gPrime(xs)\n",
    "    map(sigmoidPrime, xs);\n",
    "end;\n",
    "\n",
    "function forward(X, w1, w2)\n",
    "    z2 = X * w1;\n",
    "    a2 = g(z2);\n",
    "    z3 = a2 * w2;\n",
    "    yhat = g(z3);\n",
    "    \n",
    "    yhat, z3, z2, a2\n",
    "end;\n",
    "\n",
    "function cost(X, y, yhat)\n",
    "    J = 0.5 * sum(map(x -> x^2, y - yhat));\n",
    "end;\n",
    "\n",
    "# computes cost gradient ∇J = [dJ/dW1; dJ/dW2]\n",
    "function costPrime(X, y, yhat, z3, z2, a2, lambda)\n",
    "    delta3 = (-(y - yhat) .* gPrime(z3));\n",
    "    dJdW2 = (a2 * delta3) + (w2.* lambda);\n",
    "    delta2 = dot(delta3, w2.') * gPrime(z2);\n",
    "    dJdW1 = *(X.', delta2) +  (w1.* lambda);\n",
    "    \n",
    "    dJdW1, dJdW2;\n",
    "end;\n",
    "\n",
    "# regularization term\n",
    "function regTerm(lambda, w1, w2)\n",
    "    (lambda/2) * (sum(w1.^2) + sum(w2.^2));\n",
    "end\n",
    "\n",
    "#=\n",
    "Recursive Train Function\n",
    " w1, w2 - weights\n",
    " alpha - learning rate\n",
    " lambda - regularization parameter\n",
    " history - values of cost J for each iteration\n",
    " j - counter\n",
    " steps - how many iteration to make before returning the result\n",
    "=# \n",
    "function train(w1, w2, alpha, lambda, history, j, steps)\n",
    "    if(j == steps)\n",
    "        return w1, w2, history;\n",
    "    end\n",
    "    \n",
    "    yhat, z3, z2, a2 = forward(X, w1, w2);\n",
    "    J = cost(X, y, yhat) + regTerm(lambda, w1, w2);\n",
    "    dJdW1, dJdW2 = costPrime(X, y, yhat, z3, z2, a2, lambda); \n",
    "    w1 = w1 - (dJdW1 .* alpha);\n",
    "    w2 = w2 - (dJdW2 .* alpha);\n",
    "    append!(history, J);\n",
    "    \n",
    "    train(w1, w2, alpha, lambda, history, j+=1, steps);\n",
    "end;\n",
    "\n",
    "w1, w2, history = train(w1, w2, 0.3, 0.0001, zeros(0), 1, 30);"
   ]
  },
  {
   "cell_type": "code",
   "execution_count": 5,
   "metadata": {
    "scrolled": false
   },
   "outputs": [
    {
     "data": {
      "text/html": [
       "<script src=\"file:///home/val/.julia/v0.6/Plots/src/backends/../../deps/plotly-latest.min.js\"></script>    <div id=\"636b46be-568f-4ec4-80fa-67f002b0def0\" style=\"width:600px;height:400px;\"></div>\n",
       "    <script>\n",
       "    PLOT = document.getElementById('636b46be-568f-4ec4-80fa-67f002b0def0');\n",
       "    Plotly.plot(PLOT, [{\"showlegend\":true,\"mode\":\"lines\",\"xaxis\":\"x\",\"colorbar\":{\"title\":\"\"},\"line\":{\"color\":\"rgba(0, 154, 250, 1.000)\",\"shape\":\"linear\",\"dash\":\"solid\",\"width\":1},\"y\":[0.40735866062404785,0.39116137859994643,0.3756395686074684,0.360812777052972,0.34669002075191113,0.33327111055695974,0.320548056780326,0.3085064700379926,0.297126892843768,0.28638601817804876,0.2762577695179702,0.2667142315513445,0.25772643182771166,0.24926498121073512,0.241300585719495,0.23380444480083945,0.22674855186120677,0.22010591252821293,0.21385069503385004,0.20795832563488095,0.2024055403435221,0.19717040258933052,0.1922322948696141,0.18757189102605035,0.1831711145348141,0.17901308712169556,0.17508207110531313,0.17136340811644185,0.16784345622220231],\"type\":\"scatter\",\"name\":\"y1\",\"yaxis\":\"y\",\"x\":[1,2,3,4,5,6,7,8,9,10,11,12,13,14,15,16,17,18,19,20,21,22,23,24,25,26,27,28,29]}], {\"showlegend\":true,\"xaxis\":{\"showticklabels\":true,\"gridwidth\":0.5,\"tickvals\":[5.0,10.0,15.0,20.0,25.0],\"visible\":true,\"ticks\":\"inside\",\"range\":[1.0,29.0],\"domain\":[0.0658209390492855,0.9934383202099738],\"tickmode\":\"array\",\"linecolor\":\"rgba(0, 0, 0, 1.000)\",\"showgrid\":true,\"title\":\"\",\"mirror\":false,\"tickangle\":0,\"showline\":true,\"gridcolor\":\"rgba(0, 0, 0, 0.100)\",\"titlefont\":{\"color\":\"rgba(0, 0, 0, 1.000)\",\"family\":\"sans-serif\",\"size\":15},\"tickcolor\":\"rgb(0, 0, 0)\",\"ticktext\":[\"5\",\"10\",\"15\",\"20\",\"25\"],\"zeroline\":false,\"type\":\"-\",\"tickfont\":{\"color\":\"rgba(0, 0, 0, 1.000)\",\"family\":\"sans-serif\",\"size\":11},\"zerolinecolor\":\"rgba(0, 0, 0, 1.000)\",\"anchor\":\"y\"},\"paper_bgcolor\":\"rgba(255, 255, 255, 1.000)\",\"annotations\":[{\"yanchor\":\"top\",\"xanchor\":\"center\",\"rotation\":-0.0,\"y\":1.0,\"font\":{\"color\":\"rgba(0, 0, 0, 1.000)\",\"family\":\"sans-serif\",\"size\":20},\"yref\":\"paper\",\"showarrow\":false,\"text\":\"Cost\",\"xref\":\"paper\",\"x\":0.5296296296296296}],\"height\":400,\"margin\":{\"l\":0,\"b\":20,\"r\":0,\"t\":20},\"plot_bgcolor\":\"rgba(255, 255, 255, 1.000)\",\"yaxis\":{\"showticklabels\":true,\"gridwidth\":0.5,\"tickvals\":[0.2,0.25,0.30000000000000004,0.35000000000000003,0.4],\"visible\":true,\"ticks\":\"inside\",\"range\":[0.16784345622220231,0.40735866062404785],\"domain\":[0.03762029746281716,0.9415463692038496],\"tickmode\":\"array\",\"linecolor\":\"rgba(0, 0, 0, 1.000)\",\"showgrid\":true,\"title\":\"\",\"mirror\":false,\"tickangle\":0,\"showline\":true,\"gridcolor\":\"rgba(0, 0, 0, 0.100)\",\"titlefont\":{\"color\":\"rgba(0, 0, 0, 1.000)\",\"family\":\"sans-serif\",\"size\":15},\"tickcolor\":\"rgb(0, 0, 0)\",\"ticktext\":[\"0.20\",\"0.25\",\"0.30\",\"0.35\",\"0.40\"],\"zeroline\":false,\"type\":\"-\",\"tickfont\":{\"color\":\"rgba(0, 0, 0, 1.000)\",\"family\":\"sans-serif\",\"size\":11},\"zerolinecolor\":\"rgba(0, 0, 0, 1.000)\",\"anchor\":\"x\"},\"legend\":{\"bordercolor\":\"rgba(0, 0, 0, 1.000)\",\"bgcolor\":\"rgba(255, 255, 255, 1.000)\",\"font\":{\"color\":\"rgba(0, 0, 0, 1.000)\",\"family\":\"sans-serif\",\"size\":11},\"y\":1.0,\"x\":1.0},\"width\":600});\n",
       "    </script>\n"
      ]
     },
     "execution_count": 5,
     "metadata": {},
     "output_type": "execute_result"
    }
   ],
   "source": [
    "plot(history, title=\"Cost\")"
   ]
  }
 ],
 "metadata": {
  "kernelspec": {
   "display_name": "Julia 0.6.2",
   "language": "julia",
   "name": "julia-0.6"
  },
  "language_info": {
   "file_extension": ".jl",
   "mimetype": "application/julia",
   "name": "julia",
   "version": "0.6.2"
  }
 },
 "nbformat": 4,
 "nbformat_minor": 2
}
