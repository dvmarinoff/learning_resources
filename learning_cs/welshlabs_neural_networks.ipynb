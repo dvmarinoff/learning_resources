{
 "cells": [
  {
   "cell_type": "code",
   "execution_count": 75,
   "metadata": {},
   "outputs": [],
   "source": [
    "using Plots\n",
    "plotly()\n",
    "\n",
    "X = [3 5; 5 1; 10 2];\n",
    "y = [75; 82; 93];\n",
    "w1 = randn(2,3);\n",
    "w2 = randn(3,1);\n",
    "\n",
    "mu(xs, n) = sum(xs) / n;\n",
    "norm(xs, μ, min, max) = map(x -> (x - μ) / (max - min));\n",
    "\n",
    "# simple normalize\n",
    "X = X./maximum(X);\n",
    "y = y./100;\n",
    "\n",
    "function sigmoid(x)\n",
    "    1 / (1 + e^(-x))\n",
    "end;\n",
    "\n",
    "function sigmoidPrime(x)\n",
    "    e^(-x) / ((1 + e^(-x))^2)\n",
    "end;\n",
    "\n",
    "function g(xs)\n",
    "    map(sigmoid, xs);\n",
    "end;\n",
    "\n",
    "function gPrime(xs)\n",
    "    map(sigmoidPrime, xs);\n",
    "end;\n",
    "\n",
    "function forward(X, w1, w2)\n",
    "    z2 = X * w1;\n",
    "    a2 = g(z2);\n",
    "    z3 = a2 * w2;\n",
    "    yhat = g(z3);\n",
    "    \n",
    "    yhat, z3, z2, a2\n",
    "end;\n",
    "\n",
    "function cost(X, y, yhat)\n",
    "    J = 0.5 * sum(map(x -> x^2, y - yhat));\n",
    "end;\n",
    "\n",
    "function costPrime(X, y, yhat, z3, z2, a2, lambda)\n",
    "#     println(\"y: $(size(y-yhat)), z3: $(size(gPrime(z3))), a2: $(size(a2))\");\n",
    "    delta3 = (-(y - yhat) .* gPrime(z3));\n",
    "#     println(\"delta3: $(delta3)\");\n",
    "    dJdW2 = (a2 * delta3) + (w2.* lambda);\n",
    "#     println(\"dJdW2: $(dJdW2)\");\n",
    "#     println(\"delta3: $(size(delta3)), w2.': $(size(w2)), z2: $(size(z2))\");\n",
    "    delta2 = dot(delta3, w2.') * gPrime(z2);\n",
    "    dJdW1 = *(X.', delta2) +  (w1.* lambda);\n",
    "    \n",
    "    dJdW1, dJdW2;\n",
    "end;\n",
    "\n",
    "function numericalGradient()\n",
    "\n",
    "end;\n",
    "\n",
    "# regularization term\n",
    "function regTerm(lambda, w1, w2)\n",
    "    (lambda/2) * (sum(w1.^2) + sum(w2.^2));\n",
    "end\n",
    "\n",
    "# recursive train function\n",
    "# w1, w2 - weights\n",
    "# alpha - learning rate\n",
    "# lambda - regularization parameter\n",
    "# history - values of cost J\n",
    "# j - counter\n",
    "# steps - how many iteration to make before returning the result\n",
    "function train(w1, w2, alpha, lambda, history, j, steps)\n",
    "    if(j == steps)\n",
    "        return w1, w2, history;\n",
    "    end\n",
    "    \n",
    "    yhat, z3, z2, a2 = forward(X, w1, w2);\n",
    "    J = cost(X, y, yhat) + regTerm(lambda, w1, w2);\n",
    "    dJdW1, dJdW2 = costPrime(X, y, yhat, z3, z2, a2, lambda); \n",
    "    w1 = w1 - (dJdW1 .* alpha);\n",
    "    w2 = w2 - (dJdW2 .* alpha);\n",
    "    append!(history, J);\n",
    "    \n",
    "    train(w1, w2, alpha, lambda, history, j+=1, steps);\n",
    "end;\n",
    "\n",
    "w1, w2, history = train(w1, w2, 0.3, 0.0001, zeros(0), 1, 30);"
   ]
  },
  {
   "cell_type": "code",
   "execution_count": 12,
   "metadata": {},
   "outputs": [],
   "source": [
    "# plot(history, title=\"Cost\")"
   ]
  },
  {
   "cell_type": "code",
   "execution_count": 10,
   "metadata": {},
   "outputs": [],
   "source": [
    "# scatter()"
   ]
  },
  {
   "cell_type": "markdown",
   "metadata": {},
   "source": [
    "$ M = \\begin{bmatrix}\n",
    "       \\frac{5}{6} & \\frac{1}{6} & 0           \\\\[0.3em]\n",
    "       \\frac{5}{6} & 0           & \\frac{1}{6} \\\\[0.3em]\n",
    "       0           & \\frac{5}{6} & \\frac{1}{6}\n",
    "     \\end{bmatrix} $"
   ]
  },
  {
   "cell_type": "code",
   "execution_count": 59,
   "metadata": {},
   "outputs": [
    {
     "name": "stdout",
     "output_type": "stream",
     "text": [
      "[1.0, 2.0, 3.0, 4.0, 5.0, 6.0, 7.0, 8.0, 9.0, 10.0]\n"
     ]
    }
   ],
   "source": [
    "arr = zeros(0);\n",
    "for i=1:10 append!(arr, i) end\n",
    "println(arr)"
   ]
  },
  {
   "cell_type": "code",
   "execution_count": 94,
   "metadata": {},
   "outputs": [
    {
     "data": {
      "text/plain": [
       "1.5707963267948966"
      ]
     },
     "execution_count": 94,
     "metadata": {},
     "output_type": "execute_result"
    }
   ],
   "source": [
    "π/2 "
   ]
  },
  {
   "cell_type": "code",
   "execution_count": null,
   "metadata": {},
   "outputs": [],
   "source": []
  }
 ],
 "metadata": {
  "kernelspec": {
   "display_name": "Julia 0.6.2",
   "language": "julia",
   "name": "julia-0.6"
  },
  "language_info": {
   "file_extension": ".jl",
   "mimetype": "application/julia",
   "name": "julia",
   "version": "0.6.2"
  }
 },
 "nbformat": 4,
 "nbformat_minor": 2
}
