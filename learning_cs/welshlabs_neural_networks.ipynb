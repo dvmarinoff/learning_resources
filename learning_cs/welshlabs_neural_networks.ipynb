{
 "cells": [
  {
   "cell_type": "code",
   "execution_count": 174,
   "metadata": {},
   "outputs": [
    {
     "name": "stdout",
     "output_type": "stream",
     "text": [
      "cost: 0.49201770209241463\n",
      "cost: 0.4184486369497083\n",
      "cost: 0.3512971042334663\n",
      "cost: 0.29397858266889676\n",
      "cost: 0.24736331790350985\n",
      "cost: 0.2105104648525892\n",
      "cost: 0.18172438100243088\n",
      "cost: 0.1592653283378629\n",
      "cost: 0.14165249892191012\n",
      "cost: 0.12772597126712604\n",
      "cost: 0.11661053935235949\n",
      "cost: 0.10765513499682967\n",
      "cost: 0.10037629517663885\n",
      "cost: 0.09441325539651653\n",
      "cost: 0.08949453587517753\n",
      "cost: 0.08541376239384958\n",
      "cost: 0.08201234245566119\n",
      "cost: 0.07916705972558974\n",
      "cost: 0.07678114954561885\n",
      "cost: 0.07477783104496019\n",
      "cost: 0.0730955778335441\n",
      "cost: 0.07168462666694597\n",
      "cost: 0.07050437461645433\n",
      "cost: 0.06952141959498918\n",
      "cost: 0.06870807106465295\n",
      "cost: 0.06804120759674274\n",
      "cost: 0.0675013926841566\n",
      "cost: 0.067072184583424\n",
      "cost: 0.06673959321488156\n",
      "cost: 0.06649164946235997\n"
     ]
    }
   ],
   "source": [
    "X = [3 5; 5 1; 10 2];\n",
    "y = [75; 82; 93];\n",
    "w1 = randn(2,3);\n",
    "w2 = randn(3,1);\n",
    "\n",
    "mu(xs, n) = sum(xs) / n;\n",
    "norm(xs, μ, min, max) = map(x -> (x - μ) / (max - min));\n",
    "\n",
    "# simple normalize\n",
    "X = X./maximum(X);\n",
    "y = y./100;\n",
    "\n",
    "function sigmoid(x)\n",
    "    1 / (1 + e^(-x))\n",
    "end;\n",
    "\n",
    "function sigmoidPrime(x)\n",
    "    e^(-x) / ((1 + e^(-x))^2)\n",
    "end;\n",
    "\n",
    "function g(xs)\n",
    "    map(sigmoid, xs);\n",
    "end;\n",
    "\n",
    "function gPrime(xs)\n",
    "    map(sigmoidPrime, xs);\n",
    "end;\n",
    "\n",
    "function forward(X, w1, w2)\n",
    "    z2 = X * w1;\n",
    "    a2 = g(z2);\n",
    "    z3 = a2 * w2;\n",
    "    yhat = g(z3);\n",
    "    \n",
    "    yhat, z3, z2, a2\n",
    "end;\n",
    "\n",
    "function cost(X, y, yhat)\n",
    "    J = 0.5 * sum(map(x -> x^2, y - yhat));\n",
    "end;\n",
    "\n",
    "function costPrime(X, y, yhat, z3, z2, a2)\n",
    "#     println(\"y: $(size(y-yhat)), z3: $(size(gPrime(z3))), a2: $(size(a2))\");\n",
    "    delta3 = (-(y - yhat) .* gPrime(z3));\n",
    "#     println(\"delta3: $(delta3)\");\n",
    "    dJdW2 = (a2 * delta3);\n",
    "#     println(\"dJdW2: $(dJdW2)\");\n",
    "#     println(\"delta3: $(size(delta3)), w2.': $(size(w2)), z2: $(size(z2))\");\n",
    "    delta2 = dot(delta3, w2.') * gPrime(z2);\n",
    "    dJdW1 = *(X.', delta2);\n",
    "    \n",
    "    dJdW1, dJdW2;\n",
    "end;\n",
    "\n",
    "function numericalGradient()\n",
    "\n",
    "end;\n",
    "\n",
    "function train(w1, w2, alpha, j, steps)\n",
    "    yhat, z3, z2, a2 = forward(X, w1, w2);\n",
    "    J = cost(X, y, yhat);\n",
    "    dJdW1, dJdW2 = costPrime(X, y, yhat, z3, z2, a2); \n",
    "    println(\"cost: $(J)\");\n",
    "#     println(\"w1: $(size(w1)), dJdW1: $(size(dJdW1))\");\n",
    "#     println(\"w2: $(size(w2)), dJdW2: $(size(dJdW2))\");\n",
    "    w1 = w1 - (dJdW1 .* alpha);\n",
    "    w2 = w2 - (dJdW2 .* alpha);\n",
    "    \n",
    "    if(j < steps)\n",
    "        train(w1, w2, alpha, j+=1, steps);\n",
    "    end\n",
    "end;\n",
    "\n",
    "train(w1, w2, 1, 1, 30);"
   ]
  },
  {
   "cell_type": "code",
   "execution_count": 160,
   "metadata": {},
   "outputs": [
    {
     "data": {
      "text/plain": [
       "chisq (generic function with 1 method)"
      ]
     },
     "execution_count": 160,
     "metadata": {},
     "output_type": "execute_result"
    }
   ],
   "source": [
    "function chisq(k::Integer)\n",
    "    @assert k > 0 \"k must be a natural number\"\n",
    "    z = randn(k)\n",
    "    return sum(z.^2)\n",
    "end"
   ]
  },
  {
   "cell_type": "code",
   "execution_count": null,
   "metadata": {},
   "outputs": [],
   "source": []
  }
 ],
 "metadata": {
  "kernelspec": {
   "display_name": "Julia 0.6.2",
   "language": "julia",
   "name": "julia-0.6"
  },
  "language_info": {
   "file_extension": ".jl",
   "mimetype": "application/julia",
   "name": "julia",
   "version": "0.6.2"
  }
 },
 "nbformat": 4,
 "nbformat_minor": 2
}
