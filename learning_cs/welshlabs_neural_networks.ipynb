{
 "cells": [
  {
   "cell_type": "code",
   "execution_count": 75,
   "metadata": {},
   "outputs": [],
   "source": [
    "using Plots\n",
    "plotly()\n",
    "\n",
    "X = [3 5; 5 1; 10 2];\n",
    "y = [75; 82; 93];\n",
    "w1 = randn(2,3);\n",
    "w2 = randn(3,1);\n",
    "\n",
    "mu(xs, n) = sum(xs) / n;\n",
    "norm(xs, μ, min, max) = map(x -> (x - μ) / (max - min));\n",
    "\n",
    "# simple normalize\n",
    "X = X./maximum(X);\n",
    "y = y./100;\n",
    "\n",
    "function sigmoid(x)\n",
    "    1 / (1 + e^(-x))\n",
    "end;\n",
    "\n",
    "function sigmoidPrime(x)\n",
    "    e^(-x) / ((1 + e^(-x))^2)\n",
    "end;\n",
    "\n",
    "function g(xs)\n",
    "    map(sigmoid, xs);\n",
    "end;\n",
    "\n",
    "function gPrime(xs)\n",
    "    map(sigmoidPrime, xs);\n",
    "end;\n",
    "\n",
    "function forward(X, w1, w2)\n",
    "    z2 = X * w1;\n",
    "    a2 = g(z2);\n",
    "    z3 = a2 * w2;\n",
    "    yhat = g(z3);\n",
    "    \n",
    "    yhat, z3, z2, a2\n",
    "end;\n",
    "\n",
    "function cost(X, y, yhat)\n",
    "    J = 0.5 * sum(map(x -> x^2, y - yhat));\n",
    "end;\n",
    "\n",
    "function costPrime(X, y, yhat, z3, z2, a2, lambda)\n",
    "#     println(\"y: $(size(y-yhat)), z3: $(size(gPrime(z3))), a2: $(size(a2))\");\n",
    "    delta3 = (-(y - yhat) .* gPrime(z3));\n",
    "#     println(\"delta3: $(delta3)\");\n",
    "    dJdW2 = (a2 * delta3) + (w2.* lambda);\n",
    "#     println(\"dJdW2: $(dJdW2)\");\n",
    "#     println(\"delta3: $(size(delta3)), w2.': $(size(w2)), z2: $(size(z2))\");\n",
    "    delta2 = dot(delta3, w2.') * gPrime(z2);\n",
    "    dJdW1 = *(X.', delta2) +  (w1.* lambda);\n",
    "    \n",
    "    dJdW1, dJdW2;\n",
    "end;\n",
    "\n",
    "function numericalGradient()\n",
    "\n",
    "end;\n",
    "\n",
    "# regularization term\n",
    "function regTerm(lambda, w1, w2)\n",
    "    (lambda/2) * (sum(w1.^2) + sum(w2.^2));\n",
    "end\n",
    "\n",
    "# recursive train function\n",
    "# w1, w2 - weights\n",
    "# alpha - learning rate\n",
    "# lambda - regularization parameter\n",
    "# history - values of cost J\n",
    "# j - counter\n",
    "# steps - how many iteration to make before returning the result\n",
    "function train(w1, w2, alpha, lambda, history, j, steps)\n",
    "    if(j == steps)\n",
    "        return w1, w2, history;\n",
    "    end\n",
    "    \n",
    "    yhat, z3, z2, a2 = forward(X, w1, w2);\n",
    "    J = cost(X, y, yhat) + regTerm(lambda, w1, w2);\n",
    "    dJdW1, dJdW2 = costPrime(X, y, yhat, z3, z2, a2, lambda); \n",
    "    w1 = w1 - (dJdW1 .* alpha);\n",
    "    w2 = w2 - (dJdW2 .* alpha);\n",
    "    append!(history, J);\n",
    "    \n",
    "    train(w1, w2, alpha, lambda, history, j+=1, steps);\n",
    "end;\n",
    "\n",
    "w1, w2, history = train(w1, w2, 0.3, 0.0001, zeros(0), 1, 30);"
   ]
  },
  {
   "cell_type": "code",
   "execution_count": 81,
   "metadata": {},
   "outputs": [
    {
     "data": {
      "text/html": [
       "<script src=\"file:///home/val/.julia/v0.6/Plots/src/backends/../../deps/plotly-latest.min.js\"></script>    <div id=\"8ab3540f-23b5-47ea-bbb1-7a69b6778352\" style=\"width:600px;height:400px;\"></div>\n",
       "    <script>\n",
       "    PLOT = document.getElementById('8ab3540f-23b5-47ea-bbb1-7a69b6778352');\n",
       "    Plotly.plot(PLOT, [{\"showlegend\":true,\"mode\":\"lines\",\"xaxis\":\"x\",\"colorbar\":{\"title\":\"\"},\"line\":{\"color\":\"rgba(0, 154, 250, 1.000)\",\"shape\":\"linear\",\"dash\":\"solid\",\"width\":1},\"y\":[0.3977311104944653,0.36560438242626575,0.3349728328323522,0.3061550419537992,0.27936551746014027,0.254715920598268,0.23222695035673424,0.21184651713228192,0.19346992066613525,0.17695880863858607,0.16215705860820648,0.14890291406857034,0.13703750931874706,0.12641033913502295,0.11688236712107461,0.10832743591188722,0.10063253384750856,0.09369734394498522,0.08743338209137833,0.08176293429222192,0.0766179293685211,0.07193883089018281,0.0676735960577324,0.06377672545011186,0.06020841247706662,0.05693379226065813,0.05392228451494843,0.051147022386343714,0.048584358198276306],\"type\":\"scatter\",\"name\":\"y1\",\"yaxis\":\"y\",\"x\":[1,2,3,4,5,6,7,8,9,10,11,12,13,14,15,16,17,18,19,20,21,22,23,24,25,26,27,28,29]}], {\"showlegend\":true,\"xaxis\":{\"showticklabels\":true,\"gridwidth\":0.5,\"tickvals\":[5.0,10.0,15.0,20.0,25.0],\"visible\":true,\"ticks\":\"inside\",\"range\":[1.0,29.0],\"domain\":[0.0658209390492855,0.9934383202099738],\"tickmode\":\"array\",\"linecolor\":\"rgba(0, 0, 0, 1.000)\",\"showgrid\":true,\"title\":\"\",\"mirror\":false,\"tickangle\":0,\"showline\":true,\"gridcolor\":\"rgba(0, 0, 0, 0.100)\",\"titlefont\":{\"color\":\"rgba(0, 0, 0, 1.000)\",\"family\":\"sans-serif\",\"size\":15},\"tickcolor\":\"rgb(0, 0, 0)\",\"ticktext\":[\"5\",\"10\",\"15\",\"20\",\"25\"],\"zeroline\":false,\"type\":\"-\",\"tickfont\":{\"color\":\"rgba(0, 0, 0, 1.000)\",\"family\":\"sans-serif\",\"size\":11},\"zerolinecolor\":\"rgba(0, 0, 0, 1.000)\",\"anchor\":\"y\"},\"paper_bgcolor\":\"rgba(255, 255, 255, 1.000)\",\"annotations\":[{\"yanchor\":\"top\",\"xanchor\":\"center\",\"rotation\":-0.0,\"y\":1.0,\"font\":{\"color\":\"rgba(0, 0, 0, 1.000)\",\"family\":\"sans-serif\",\"size\":20},\"yref\":\"paper\",\"showarrow\":false,\"text\":\"Cost\",\"xref\":\"paper\",\"x\":0.5296296296296296}],\"height\":400,\"margin\":{\"l\":0,\"b\":20,\"r\":0,\"t\":20},\"plot_bgcolor\":\"rgba(255, 255, 255, 1.000)\",\"yaxis\":{\"showticklabels\":true,\"gridwidth\":0.5,\"tickvals\":[0.05,0.1,0.15000000000000002,0.2,0.25,0.30000000000000004,0.35000000000000003],\"visible\":true,\"ticks\":\"inside\",\"range\":[0.048584358198276306,0.3977311104944653],\"domain\":[0.03762029746281716,0.9415463692038496],\"tickmode\":\"array\",\"linecolor\":\"rgba(0, 0, 0, 1.000)\",\"showgrid\":true,\"title\":\"\",\"mirror\":false,\"tickangle\":0,\"showline\":true,\"gridcolor\":\"rgba(0, 0, 0, 0.100)\",\"titlefont\":{\"color\":\"rgba(0, 0, 0, 1.000)\",\"family\":\"sans-serif\",\"size\":15},\"tickcolor\":\"rgb(0, 0, 0)\",\"ticktext\":[\"0.05\",\"0.10\",\"0.15\",\"0.20\",\"0.25\",\"0.30\",\"0.35\"],\"zeroline\":false,\"type\":\"-\",\"tickfont\":{\"color\":\"rgba(0, 0, 0, 1.000)\",\"family\":\"sans-serif\",\"size\":11},\"zerolinecolor\":\"rgba(0, 0, 0, 1.000)\",\"anchor\":\"x\"},\"legend\":{\"bordercolor\":\"rgba(0, 0, 0, 1.000)\",\"bgcolor\":\"rgba(255, 255, 255, 1.000)\",\"font\":{\"color\":\"rgba(0, 0, 0, 1.000)\",\"family\":\"sans-serif\",\"size\":11},\"y\":1.0,\"x\":1.0},\"width\":600});\n",
       "    </script>\n"
      ]
     },
     "execution_count": 81,
     "metadata": {},
     "output_type": "execute_result"
    }
   ],
   "source": [
    "plot(history, title=\"Cost\")"
   ]
  },
  {
   "cell_type": "code",
   "execution_count": 90,
   "metadata": {},
   "outputs": [
    {
     "ename": "LoadError",
     "evalue": "\u001b[91mMethodError: no method matching getindex(::Base.#linspace, ::StepRangeLen{Float64,Base.TwicePrecision{Float64},Base.TwicePrecision{Float64}})\u001b[39m",
     "output_type": "error",
     "traceback": [
      "\u001b[91mMethodError: no method matching getindex(::Base.#linspace, ::StepRangeLen{Float64,Base.TwicePrecision{Float64},Base.TwicePrecision{Float64}})\u001b[39m",
      "",
      "Stacktrace:",
      " [1] \u001b[1minclude_string\u001b[22m\u001b[22m\u001b[1m(\u001b[22m\u001b[22m::String, ::String\u001b[1m)\u001b[22m\u001b[22m at \u001b[1m./loading.jl:522\u001b[22m\u001b[22m"
     ]
    }
   ],
   "source": [
    "# scatter()\n",
    "linspace[1:0.1:10]"
   ]
  },
  {
   "cell_type": "code",
   "execution_count": 46,
   "metadata": {},
   "outputs": [
    {
     "name": "stdout",
     "output_type": "stream",
     "text": [
      "[0.3 0.5; 0.5 0.1; 1.0 0.2]\n"
     ]
    },
    {
     "data": {
      "text/html": [
       "<script src=\"file:///home/val/.julia/v0.6/Plots/src/backends/../../deps/plotly-latest.min.js\"></script>    <div id=\"d76a58c3-b1c0-453f-9034-ea65172a3919\" style=\"width:600px;height:400px;\"></div>\n",
       "    <script>\n",
       "    PLOT = document.getElementById('d76a58c3-b1c0-453f-9034-ea65172a3919');\n",
       "    Plotly.plot(PLOT, [{\"showlegend\":true,\"mode\":\"lines\",\"xaxis\":\"x\",\"colorbar\":{\"title\":\"\"},\"line\":{\"color\":\"rgba(0, 154, 250, 1.000)\",\"shape\":\"linear\",\"dash\":\"solid\",\"width\":4},\"y\":[0.3,0.5,1.0],\"type\":\"scatter\",\"name\":\"y1\",\"yaxis\":\"y\",\"x\":[1,2,3]},{\"showlegend\":true,\"mode\":\"lines\",\"xaxis\":\"x\",\"colorbar\":{\"title\":\"\"},\"line\":{\"color\":\"rgba(227, 111, 71, 1.000)\",\"shape\":\"linear\",\"dash\":\"solid\",\"width\":4},\"y\":[0.5,0.1,0.2],\"type\":\"scatter\",\"name\":\"y2\",\"yaxis\":\"y\",\"x\":[1,2,3]}], {\"showlegend\":true,\"xaxis\":{\"showticklabels\":true,\"gridwidth\":0.5,\"tickvals\":[1.0,1.5,2.0,2.5,3.0],\"visible\":true,\"ticks\":\"inside\",\"range\":[1.0,3.0],\"domain\":[0.05100612423447069,0.9934383202099737],\"tickmode\":\"array\",\"linecolor\":\"rgba(0, 0, 0, 1.000)\",\"showgrid\":true,\"title\":\"\",\"mirror\":false,\"tickangle\":0,\"showline\":true,\"gridcolor\":\"rgba(0, 0, 0, 0.100)\",\"titlefont\":{\"color\":\"rgba(0, 0, 0, 1.000)\",\"family\":\"sans-serif\",\"size\":15},\"tickcolor\":\"rgb(0, 0, 0)\",\"ticktext\":[\"1.0\",\"1.5\",\"2.0\",\"2.5\",\"3.0\"],\"zeroline\":false,\"type\":\"-\",\"tickfont\":{\"color\":\"rgba(0, 0, 0, 1.000)\",\"family\":\"sans-serif\",\"size\":11},\"zerolinecolor\":\"rgba(0, 0, 0, 1.000)\",\"anchor\":\"y\"},\"paper_bgcolor\":\"rgba(255, 255, 255, 1.000)\",\"annotations\":[{\"yanchor\":\"top\",\"xanchor\":\"center\",\"rotation\":-0.0,\"y\":1.0,\"font\":{\"color\":\"rgba(0, 0, 0, 1.000)\",\"family\":\"sans-serif\",\"size\":20},\"yref\":\"paper\",\"showarrow\":false,\"text\":\"X\",\"xref\":\"paper\",\"x\":0.5222222222222223}],\"height\":400,\"margin\":{\"l\":0,\"b\":20,\"r\":0,\"t\":20},\"plot_bgcolor\":\"rgba(255, 255, 255, 1.000)\",\"yaxis\":{\"showticklabels\":true,\"gridwidth\":0.5,\"tickvals\":[0.2,0.4,0.6000000000000001,0.8,1.0],\"visible\":true,\"ticks\":\"inside\",\"range\":[0.1,1.0],\"domain\":[0.03762029746281716,0.9415463692038496],\"tickmode\":\"array\",\"linecolor\":\"rgba(0, 0, 0, 1.000)\",\"showgrid\":true,\"title\":\"\",\"mirror\":false,\"tickangle\":0,\"showline\":true,\"gridcolor\":\"rgba(0, 0, 0, 0.100)\",\"titlefont\":{\"color\":\"rgba(0, 0, 0, 1.000)\",\"family\":\"sans-serif\",\"size\":15},\"tickcolor\":\"rgb(0, 0, 0)\",\"ticktext\":[\"0.2\",\"0.4\",\"0.6\",\"0.8\",\"1.0\"],\"zeroline\":false,\"type\":\"-\",\"tickfont\":{\"color\":\"rgba(0, 0, 0, 1.000)\",\"family\":\"sans-serif\",\"size\":11},\"zerolinecolor\":\"rgba(0, 0, 0, 1.000)\",\"anchor\":\"x\"},\"legend\":{\"bordercolor\":\"rgba(0, 0, 0, 1.000)\",\"bgcolor\":\"rgba(255, 255, 255, 1.000)\",\"font\":{\"color\":\"rgba(0, 0, 0, 1.000)\",\"family\":\"sans-serif\",\"size\":11},\"y\":1.0,\"x\":1.0},\"width\":600});\n",
       "    </script>\n"
      ]
     },
     "execution_count": 46,
     "metadata": {},
     "output_type": "execute_result"
    }
   ],
   "source": [
    "println(X);\n",
    "plot(X,linewidth=4,title=\"X\")"
   ]
  },
  {
   "cell_type": "code",
   "execution_count": 59,
   "metadata": {},
   "outputs": [
    {
     "name": "stdout",
     "output_type": "stream",
     "text": [
      "[1.0, 2.0, 3.0, 4.0, 5.0, 6.0, 7.0, 8.0, 9.0, 10.0]\n"
     ]
    }
   ],
   "source": [
    "arr = zeros(0);\n",
    "for i=1:10 append!(arr, i) end\n",
    "println(arr)"
   ]
  },
  {
   "cell_type": "code",
   "execution_count": 94,
   "metadata": {},
   "outputs": [
    {
     "data": {
      "text/plain": [
       "1.5707963267948966"
      ]
     },
     "execution_count": 94,
     "metadata": {},
     "output_type": "execute_result"
    }
   ],
   "source": [
    "π/2"
   ]
  },
  {
   "cell_type": "code",
   "execution_count": null,
   "metadata": {},
   "outputs": [],
   "source": []
  }
 ],
 "metadata": {
  "kernelspec": {
   "display_name": "Julia 0.6.2",
   "language": "julia",
   "name": "julia-0.6"
  },
  "language_info": {
   "file_extension": ".jl",
   "mimetype": "application/julia",
   "name": "julia",
   "version": "0.6.2"
  }
 },
 "nbformat": 4,
 "nbformat_minor": 2
}
