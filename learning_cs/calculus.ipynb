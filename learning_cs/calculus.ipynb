{
 "cells": [
  {
   "cell_type": "markdown",
   "metadata": {},
   "source": [
    "## Derivatives"
   ]
  },
  {
   "cell_type": "markdown",
   "metadata": {},
   "source": [
    "### Intro to Derivatives"
   ]
  },
  {
   "cell_type": "markdown",
   "metadata": {},
   "source": [
    "- Derivatives are about looking at tiny changes to some quontity and how that relates to a resulting tiny change in another quontity\n",
    "\n",
    "\n",
    "- 'Instantanious' rate of change\n",
    "\n",
    "\n",
    "- Derivative is equal to the slope of a line tangent to the graph at a single point\n",
    "\n",
    "\n",
    "- Avarage Rate of change:\n",
    "\n",
    "$ \\frac{\\Delta y}{\\Delta x} = \\frac{rise}{run} = \\frac{f(b) - f(a)}{b - a} $\n",
    "\n",
    "- Derivative as limit:\n",
    "\n",
    "$ f'(x) = \\frac{df}{dx} = \\lim_{\\Delta x\\to 0} = \\frac{f(x+\\Delta x) - f(x)}{\\Delta x} $\n",
    "\n",
    "$ f'(a) = \\lim_{x\\to a} \\frac{f(x) - f(a)}{x - a} $"
   ]
  },
  {
   "cell_type": "code",
   "execution_count": null,
   "metadata": {},
   "outputs": [],
   "source": []
  }
 ],
 "metadata": {
  "kernelspec": {
   "display_name": "Python 3",
   "language": "python",
   "name": "python3"
  },
  "language_info": {
   "codemirror_mode": {
    "name": "ipython",
    "version": 3
   },
   "file_extension": ".py",
   "mimetype": "text/x-python",
   "name": "python",
   "nbconvert_exporter": "python",
   "pygments_lexer": "ipython3",
   "version": "3.5.2"
  }
 },
 "nbformat": 4,
 "nbformat_minor": 2
}
